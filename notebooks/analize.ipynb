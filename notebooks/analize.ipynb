{
 "cells": [
  {
   "cell_type": "code",
   "execution_count": null,
   "id": "60f53650",
   "metadata": {},
   "outputs": [],
   "source": [
    "import os\n",
    "import json"
   ]
  },
  {
   "cell_type": "code",
   "execution_count": null,
   "id": "7c9ef1ae",
   "metadata": {},
   "outputs": [],
   "source": [
    "dir = \"../run_metadata\""
   ]
  },
  {
   "cell_type": "code",
   "execution_count": null,
   "id": "ff839650",
   "metadata": {},
   "outputs": [],
   "source": [
    "def get_folder_names(path):\n",
    "    try:\n",
    "        contents = os.listdir(path)\n",
    "        folder_names = [item for item in contents if os.path.isdir(os.path.join(path, item))]\n",
    "        return folder_names\n",
    "    except FileNotFoundError:\n",
    "        return \"Ошибка: Директория не найдена.\"\n",
    "    except PermissionError:\n",
    "        return \"Ошибка: Недостаточно прав для доступа к директории.\""
   ]
  },
  {
   "cell_type": "code",
   "execution_count": null,
   "id": "68321dff",
   "metadata": {},
   "outputs": [],
   "source": [
    "models_dirs = get_folder_names(dir)\n",
    "models_dirs\n"
   ]
  },
  {
   "cell_type": "code",
   "execution_count": null,
   "id": "45958b9a",
   "metadata": {},
   "outputs": [],
   "source": [
    "experiments = dict()\n",
    "for model_name in models_dirs:\n",
    "    model_path = os.path.join(dir, model_name)\n",
    "    exp_files = [f for f in os.listdir(model_path) if f.endswith('.json')]\n",
    "    if exp_files:\n",
    "        last_exp_file = max(exp_files)\n",
    "        exp_file_path = os.path.join(model_path, last_exp_file)\n",
    "        with open(exp_file_path, 'r') as data:\n",
    "            experiments[model_name] = json.load(data)\n"
   ]
  },
  {
   "cell_type": "code",
   "execution_count": null,
   "id": "d6807a4f",
   "metadata": {},
   "outputs": [],
   "source": [
    "print(\"Модели в экспериментах:\", list(experiments.keys()))\n",
    "for model_name, data in experiments.items():\n",
    "    print(f\"\\n=== {model_name} ===\")\n",
    "\n",
    "    print(f\"train_loss: {len(data['train_loss'])} эпох\")\n",
    "    print(f\"val_loss: {len(data['val_loss'])} эпох\")\n",
    "    print(f\"score_by_epoch: {len(data['score_by_epoch'])} эпох\")\n",
    "    print(\"test_metrics:\", list(data['test_metrics'].keys()))"
   ]
  },
  {
   "cell_type": "code",
   "execution_count": null,
   "id": "275be2a7",
   "metadata": {},
   "outputs": [],
   "source": [
    "import matplotlib.pyplot as plt\n",
    "import numpy as np\n",
    "\n",
    "plt.rcParams['font.size'] = 12\n",
    "plt.rcParams['figure.figsize'] = (12, 8)\n",
    "\n",
    "import matplotlib.cm as cm\n",
    "num_models = len(experiments)\n",
    "color_map = plt.cm.tab10\n",
    "colors = {model_name: color_map(i) for i, model_name in enumerate(experiments.keys())}"
   ]
  },
  {
   "cell_type": "code",
   "execution_count": null,
   "id": "65871525",
   "metadata": {},
   "outputs": [],
   "source": [
    "plt.figure(figsize=(12, 6))\n",
    "for model_name, data in experiments.items():\n",
    "    epochs = range(1, len(data['train_loss']) + 1)\n",
    "    plt.plot(epochs, data['train_loss'], \n",
    "             label=f'{model_name}', \n",
    "             color=colors[model_name], \n",
    "             linewidth=2, \n",
    "             marker='o', \n",
    "             markersize=4)\n",
    "\n",
    "plt.title('Сравнение Training Loss по эпохам', fontsize=16, fontweight='bold')\n",
    "plt.xlabel('Эпохи', fontsize=14)\n",
    "plt.ylabel('Training Loss', fontsize=14)\n",
    "plt.legend(fontsize=12)\n",
    "plt.grid(True, alpha=0.3)\n",
    "plt.tight_layout()\n",
    "plt.show()"
   ]
  },
  {
   "cell_type": "code",
   "execution_count": null,
   "id": "b755470b",
   "metadata": {},
   "outputs": [],
   "source": [
    "plt.figure(figsize=(12, 6))\n",
    "for model_name, data in experiments.items():\n",
    "    epochs = range(1, len(data['val_loss']) + 1)\n",
    "    plt.plot(epochs, data['val_loss'], \n",
    "             label=f'{model_name}', \n",
    "             color=colors[model_name], \n",
    "             linewidth=2, \n",
    "             marker='s', \n",
    "             markersize=4)\n",
    "\n",
    "plt.title('Сравнение Validation Loss по эпохам', fontsize=16, fontweight='bold')\n",
    "plt.xlabel('Эпохи', fontsize=14)\n",
    "plt.ylabel('Validation Loss', fontsize=14)\n",
    "plt.legend(fontsize=12)\n",
    "plt.grid(True, alpha=0.3)\n",
    "plt.tight_layout()\n",
    "plt.show()"
   ]
  },
  {
   "cell_type": "code",
   "execution_count": null,
   "id": "3aed93b1",
   "metadata": {},
   "outputs": [],
   "source": [
    "plt.figure(figsize=(12, 6))\n",
    "for model_name, data in experiments.items():\n",
    "    epochs = range(1, len(data['score_by_epoch']) + 1)\n",
    "    plt.plot(epochs, data['score_by_epoch'], \n",
    "             label=f'{model_name}', \n",
    "             color=colors[model_name], \n",
    "             linewidth=2, \n",
    "             marker='^', \n",
    "             markersize=4)\n",
    "\n",
    "plt.title('Сравнение Score по эпохам', fontsize=16, fontweight='bold')\n",
    "plt.xlabel('Эпохи', fontsize=14)\n",
    "plt.ylabel('Score', fontsize=14)\n",
    "plt.legend(fontsize=12)\n",
    "plt.grid(True, alpha=0.3)\n",
    "plt.tight_layout()\n",
    "plt.show()"
   ]
  },
  {
   "cell_type": "code",
   "execution_count": null,
   "id": "53e71303",
   "metadata": {},
   "outputs": [],
   "source": [
    "all_metrics = set()\n",
    "for model_name, data in experiments.items():\n",
    "    if 'scores' in data:\n",
    "        all_metrics.update(data['scores'].keys())\n",
    "\n",
    "metrics_list = sorted(list(all_metrics))\n",
    "\n",
    "if metrics_list:\n",
    "    fig, ax = plt.subplots(figsize=(14, 8))\n",
    "    \n",
    "    n_metrics = len(metrics_list)\n",
    "    n_models = len(experiments)\n",
    "    \n",
    "    bar_width = 0.8 / n_models\n",
    "    x_pos = np.arange(n_metrics)\n",
    "    \n",
    "    for i, (model_name, data) in enumerate(experiments.items()):\n",
    "        if 'scores' in data:\n",
    "            values = [data['scores'].get(metric, 0) for metric in metrics_list]\n",
    "            offset = (i - n_models/2 + 0.5) * bar_width\n",
    "            ax.bar(x_pos + offset, values, \n",
    "                   bar_width, \n",
    "                   label=model_name, \n",
    "                   color=colors[model_name],\n",
    "                   alpha=0.8)\n",
    "    \n",
    "    ax.set_title('Сравнение итоговых метрик по моделям', fontsize=16, fontweight='bold')\n",
    "    ax.set_xlabel('Метрики', fontsize=14)\n",
    "    ax.set_ylabel('Значения', fontsize=14)\n",
    "    ax.set_xticks(x_pos)\n",
    "    ax.set_xticklabels(metrics_list, rotation=45, ha='right')\n",
    "    ax.legend(fontsize=12)\n",
    "    ax.grid(True, alpha=0.3, axis='y')\n",
    "    \n",
    "    for i, (model_name, data) in enumerate(experiments.items()):\n",
    "        if 'scores' in data:\n",
    "            values = [data['scores'].get(metric, 0) for metric in metrics_list]\n",
    "            offset = (i - n_models/2 + 0.5) * bar_width\n",
    "            for j, value in enumerate(values):\n",
    "                if value > 0:\n",
    "                    ax.text(x_pos[j] + offset, value + max(values)*0.01, \n",
    "                           f'{value:.3f}', \n",
    "                           ha='center', va='bottom', fontsize=10)\n",
    "    \n",
    "    plt.tight_layout()\n",
    "    plt.show()\n",
    "else:\n",
    "    print(\"Итоговые метрики не найдены в данных экспериментов\")"
   ]
  },
  {
   "cell_type": "markdown",
   "id": "2f9d1696",
   "metadata": {},
   "source": [
    "## Анализ результатов экспериментов\n",
    "\n",
    "Выше 4 графика для сравнения моделей:\n",
    "\n",
    "1. **Training Loss по эпохам** - показывает, как уменьшается ошибка обучения для каждой модели\n",
    "2. **Validation Loss по эпохам** - показывает, как уменьшается ошибка валидации для каждой модели\n",
    "3. **Score по эпохам** - показывает, как улучшается качество модели в процессе обучения\n",
    "4. **Итоговые метрики** - диаграмма с финальными результатами всех метрик для сравнения моделей"
   ]
  }
 ],
 "metadata": {
  "kernelspec": {
   "display_name": ".venv",
   "language": "python",
   "name": "python3"
  },
  "language_info": {
   "codemirror_mode": {
    "name": "ipython",
    "version": 3
   },
   "file_extension": ".py",
   "mimetype": "text/x-python",
   "name": "python",
   "nbconvert_exporter": "python",
   "pygments_lexer": "ipython3",
   "version": "3.13.4"
  }
 },
 "nbformat": 4,
 "nbformat_minor": 5
}
